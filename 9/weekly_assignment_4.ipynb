{
 "cells": [
  {
   "cell_type": "markdown",
   "metadata": {},
   "source": [
    "The following program was created by Josh Sanchez. Last updated on October 24, 2023."
   ]
  },
  {
   "cell_type": "code",
   "execution_count": 3,
   "metadata": {},
   "outputs": [],
   "source": [
    "import json\n",
    "import urllib\n",
    "import csv\n",
    "from collections import defaultdict"
   ]
  },
  {
   "cell_type": "code",
   "execution_count": 4,
   "metadata": {},
   "outputs": [],
   "source": [
    "# Gets the JSON data from Pleiades\n",
    "def get_json(uri):\n",
    "    uri = f\"https://pleiades.stoa.org/places/{uri}/json\"\n",
    "    with urllib.request.urlopen(uri) as f:\n",
    "        data = json.loads(f.read().decode())\n",
    "    return data"
   ]
  },
  {
   "cell_type": "code",
   "execution_count": 5,
   "metadata": {},
   "outputs": [],
   "source": [
    "# Takes a list of PleiadesIDs and creates a csv file with four columns\n",
    "def export_coordinates(input_list, filename):\n",
    "    # The list that the dictionary will be appended to in order to print to the csv file\n",
    "    row_data = []\n",
    "\n",
    "    for uri in input_list:\n",
    "        data = get_json(uri)\n",
    "    \n",
    "        # Column names for the csv file\n",
    "        column_names = [\"title\", \"pleiadesID\", \"longitude\", \"latitude\"]\n",
    "        \n",
    "        # The dictionary that the applicable path values will be added to\n",
    "        row_data_dict = {}\n",
    "\n",
    "        # Test if a specific path exists in the JSON file, otherwise catch the exception\n",
    "        try:\n",
    "            # Test if title (romanized) path exists in the JSON file\n",
    "            title = data.get(\"title\", \"No romanized title found\")\n",
    "            row_data_dict[\"title\"] = title\n",
    "\n",
    "            # Test if pleiadesID exists in the JSON file\n",
    "            pleiadesID = data.get(\"id\", \"No ID found\")\n",
    "            row_data_dict[\"pleiadesID\"] = pleiadesID\n",
    "            \n",
    "            # Test if a coordinate path exists in the JSON file\n",
    "            coords = data[\"features\"][0][\"geometry\"].get(\"coordinates\", \"No coordinates found\")\n",
    "            \n",
    "            # Get the longitude and latitude\n",
    "            longitude = coords[0]\n",
    "            row_data_dict[\"longitude\"] = longitude\n",
    "            latitude = coords[1]\n",
    "            row_data_dict[\"latitude\"] = latitude\n",
    "            \n",
    "            row_data.append(row_data_dict)\n",
    "            \n",
    "            # Write the information gathered to the csv file with the appropriate file name\n",
    "            with open(f\"{filename}.csv\", \"w\", newline=\"\") as csvfile:\n",
    "                # Creating a csv dict writer object\n",
    "                writer = csv.DictWriter(csvfile, fieldnames=column_names)\n",
    "\n",
    "                # Writing the column names (header)\n",
    "                writer.writeheader()\n",
    "\n",
    "                # Writing the data into the rows\n",
    "                writer.writerows(row_data)\n",
    "        except:\n",
    "            row_data.append(row_data_dict)\n",
    "                \n",
    "            \n"
   ]
  },
  {
   "cell_type": "code",
   "execution_count": 6,
   "metadata": {},
   "outputs": [],
   "source": [
    "uri_list = [541138, 570685, 711244, 727070, 579885, 589918]\n",
    "export_coordinates(uri_list, \"places_test\")"
   ]
  }
 ],
 "metadata": {
  "kernelspec": {
   "display_name": "Python 3",
   "language": "python",
   "name": "python3"
  },
  "language_info": {
   "codemirror_mode": {
    "name": "ipython",
    "version": 3
   },
   "file_extension": ".py",
   "mimetype": "text/x-python",
   "name": "python",
   "nbconvert_exporter": "python",
   "pygments_lexer": "ipython3",
   "version": "3.11.5"
  }
 },
 "nbformat": 4,
 "nbformat_minor": 2
}
