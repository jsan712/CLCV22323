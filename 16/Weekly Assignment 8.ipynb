{
 "cells": [
  {
   "cell_type": "markdown",
   "metadata": {},
   "source": [
    "# Weekly Assignment 8\n",
    "Code was written by Josh Sanchez. Last updated on November 12, 2023."
   ]
  },
  {
   "cell_type": "markdown",
   "metadata": {},
   "source": [
    "SQL query: Create an ordered list with the city of each province that has the most monuments along with the counts of the monuments."
   ]
  },
  {
   "cell_type": "code",
   "execution_count": 2,
   "metadata": {},
   "outputs": [],
   "source": [
    "import pandas as pd\n",
    "import sqlite3\n"
   ]
  },
  {
   "cell_type": "code",
   "execution_count": 23,
   "metadata": {},
   "outputs": [
    {
     "data": {
      "text/html": [
       "<div>\n",
       "<style scoped>\n",
       "    .dataframe tbody tr th:only-of-type {\n",
       "        vertical-align: middle;\n",
       "    }\n",
       "\n",
       "    .dataframe tbody tr th {\n",
       "        vertical-align: top;\n",
       "    }\n",
       "\n",
       "    .dataframe thead th {\n",
       "        text-align: right;\n",
       "    }\n",
       "</style>\n",
       "<table border=\"1\" class=\"dataframe\">\n",
       "  <thead>\n",
       "    <tr style=\"text-align: right;\">\n",
       "      <th></th>\n",
       "      <th>ancient_toponym</th>\n",
       "      <th>Count of monuments</th>\n",
       "    </tr>\n",
       "  </thead>\n",
       "  <tbody>\n",
       "    <tr>\n",
       "      <th>0</th>\n",
       "      <td>Roma</td>\n",
       "      <td>236</td>\n",
       "    </tr>\n",
       "    <tr>\n",
       "      <th>1</th>\n",
       "      <td>Athenae</td>\n",
       "      <td>107</td>\n",
       "    </tr>\n",
       "    <tr>\n",
       "      <th>2</th>\n",
       "      <td>Corinthia</td>\n",
       "      <td>56</td>\n",
       "    </tr>\n",
       "    <tr>\n",
       "      <th>3</th>\n",
       "      <td>Pergamum</td>\n",
       "      <td>50</td>\n",
       "    </tr>\n",
       "    <tr>\n",
       "      <th>4</th>\n",
       "      <td>Lepcis Magna</td>\n",
       "      <td>46</td>\n",
       "    </tr>\n",
       "    <tr>\n",
       "      <th>...</th>\n",
       "      <td>...</td>\n",
       "      <td>...</td>\n",
       "    </tr>\n",
       "    <tr>\n",
       "      <th>1202</th>\n",
       "      <td>Balsa</td>\n",
       "      <td>1</td>\n",
       "    </tr>\n",
       "    <tr>\n",
       "      <th>1203</th>\n",
       "      <td>Laumellum</td>\n",
       "      <td>1</td>\n",
       "    </tr>\n",
       "    <tr>\n",
       "      <th>1204</th>\n",
       "      <td>Mantua</td>\n",
       "      <td>1</td>\n",
       "    </tr>\n",
       "    <tr>\n",
       "      <th>1205</th>\n",
       "      <td>Albona</td>\n",
       "      <td>1</td>\n",
       "    </tr>\n",
       "    <tr>\n",
       "      <th>1206</th>\n",
       "      <td>Tifernum Tiberinum</td>\n",
       "      <td>1</td>\n",
       "    </tr>\n",
       "  </tbody>\n",
       "</table>\n",
       "<p>1207 rows × 2 columns</p>\n",
       "</div>"
      ],
      "text/plain": [
       "         ancient_toponym  Count of monuments\n",
       "0                   Roma                 236\n",
       "1                Athenae                 107\n",
       "2              Corinthia                  56\n",
       "3               Pergamum                  50\n",
       "4           Lepcis Magna                  46\n",
       "...                  ...                 ...\n",
       "1202               Balsa                   1\n",
       "1203           Laumellum                   1\n",
       "1204              Mantua                   1\n",
       "1205              Albona                   1\n",
       "1206  Tifernum Tiberinum                   1\n",
       "\n",
       "[1207 rows x 2 columns]"
      ]
     },
     "execution_count": 23,
     "metadata": {},
     "output_type": "execute_result"
    }
   ],
   "source": [
    "connection = sqlite3.connect(\":memory:\")\n",
    "# Read the excel as pandas DataFrame\n",
    "cities_df = pd.read_excel(\n",
    "    \"\"\"D:/Digital Humanities for the Ancient World/Hanson2016_CitiesDatabase_OxREP.xlsx\"\"\",\n",
    "    sheet_name=\"cities\",\n",
    ")\n",
    "monuments_df = pd.read_excel(\n",
    "    \"\"\"D:/Digital Humanities for the Ancient World/Hanson2016_CitiesDatabase_OxREP.xlsx\"\"\",\n",
    "    sheet_name=\"monuments\",\n",
    ")\n",
    "\n",
    "# Turn the DataFrames to SQL\n",
    "cities_df.to_sql(\"cities\", con=connection, index=False)\n",
    "monuments_df.to_sql(\"monuments\", con=connection, index=False)\n",
    "\n",
    "pd.read_sql(\n",
    "    \"\"\" SELECT c.ancient_toponym, COUNT(*) as \"Count of monuments\"\n",
    "        FROM cities as c, monuments as m\n",
    "        WHERE c.id=m.id\n",
    "        GROUP BY m.id\n",
    "        ORDER BY \"Count of monuments\" DESC\n",
    "    \"\"\",\n",
    "    connection\n",
    "    )"
   ]
  }
 ],
 "metadata": {
  "kernelspec": {
   "display_name": "Python 3",
   "language": "python",
   "name": "python3"
  },
  "language_info": {
   "codemirror_mode": {
    "name": "ipython",
    "version": 3
   },
   "file_extension": ".py",
   "mimetype": "text/x-python",
   "name": "python",
   "nbconvert_exporter": "python",
   "pygments_lexer": "ipython3",
   "version": "3.11.5"
  }
 },
 "nbformat": 4,
 "nbformat_minor": 2
}
