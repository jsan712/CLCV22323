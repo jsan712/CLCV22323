{
 "cells": [
  {
   "cell_type": "markdown",
   "metadata": {},
   "source": [
    "# Weekly Assignment 8\n",
    "Code was written by Josh Sanchez. Last updated November 16, 2023."
   ]
  },
  {
   "cell_type": "markdown",
   "metadata": {},
   "source": [
    "Write a SPARQL query to receive all Athenian writers of fifth-century BCE."
   ]
  },
  {
   "cell_type": "code",
   "execution_count": 2,
   "metadata": {},
   "outputs": [],
   "source": [
    "from SPARQLWrapper import SPARQLWrapper, JSON\n",
    "import pandas as pd\n",
    "pd.set_option('display.max_rows', None)\n",
    "pd.set_option('display.max_columns', None)\n",
    "pd.set_option('display.precision', 3)"
   ]
  },
  {
   "cell_type": "code",
   "execution_count": 3,
   "metadata": {},
   "outputs": [],
   "source": [
    "sparql = SPARQLWrapper(\"https://query.wikidata.org/sparql\")"
   ]
  },
  {
   "cell_type": "code",
   "execution_count": 7,
   "metadata": {},
   "outputs": [
    {
     "data": {
      "text/html": [
       "<style type=\"text/css\">\n",
       "</style>\n",
       "<table id=\"T_caee6\">\n",
       "  <thead>\n",
       "    <tr>\n",
       "      <th class=\"blank level0\" >&nbsp;</th>\n",
       "      <th id=\"T_caee6_level0_col0\" class=\"col_heading level0 col0\" >writer.value</th>\n",
       "      <th id=\"T_caee6_level0_col1\" class=\"col_heading level0 col1\" >writerLabel.value</th>\n",
       "    </tr>\n",
       "  </thead>\n",
       "  <tbody>\n",
       "    <tr>\n",
       "      <th id=\"T_caee6_level0_row0\" class=\"row_heading level0 row0\" >0</th>\n",
       "      <td id=\"T_caee6_row0_col0\" class=\"data row0 col0\" >http://www.wikidata.org/entity/Q459517</td>\n",
       "      <td id=\"T_caee6_row0_col1\" class=\"data row0 col1\" >Eupolis</td>\n",
       "    </tr>\n",
       "    <tr>\n",
       "      <th id=\"T_caee6_level0_row1\" class=\"row_heading level0 row1\" >1</th>\n",
       "      <td id=\"T_caee6_row1_col0\" class=\"data row1 col0\" >http://www.wikidata.org/entity/Q537647</td>\n",
       "      <td id=\"T_caee6_row1_col1\" class=\"data row1 col1\" >Onomacritus</td>\n",
       "    </tr>\n",
       "    <tr>\n",
       "      <th id=\"T_caee6_level0_row2\" class=\"row_heading level0 row2\" >2</th>\n",
       "      <td id=\"T_caee6_row2_col0\" class=\"data row2 col0\" >http://www.wikidata.org/entity/Q732715</td>\n",
       "      <td id=\"T_caee6_row2_col1\" class=\"data row2 col1\" >Polycrates</td>\n",
       "    </tr>\n",
       "    <tr>\n",
       "      <th id=\"T_caee6_level0_row3\" class=\"row_heading level0 row3\" >3</th>\n",
       "      <td id=\"T_caee6_row3_col0\" class=\"data row3 col0\" >http://www.wikidata.org/entity/Q859</td>\n",
       "      <td id=\"T_caee6_row3_col1\" class=\"data row3 col1\" >Plato</td>\n",
       "    </tr>\n",
       "    <tr>\n",
       "      <th id=\"T_caee6_level0_row4\" class=\"row_heading level0 row4\" >4</th>\n",
       "      <td id=\"T_caee6_row4_col0\" class=\"data row4 col0\" >http://www.wikidata.org/entity/Q859</td>\n",
       "      <td id=\"T_caee6_row4_col1\" class=\"data row4 col1\" >Plato</td>\n",
       "    </tr>\n",
       "    <tr>\n",
       "      <th id=\"T_caee6_level0_row5\" class=\"row_heading level0 row5\" >5</th>\n",
       "      <td id=\"T_caee6_row5_col0\" class=\"data row5 col0\" >http://www.wikidata.org/entity/Q859</td>\n",
       "      <td id=\"T_caee6_row5_col1\" class=\"data row5 col1\" >Plato</td>\n",
       "    </tr>\n",
       "    <tr>\n",
       "      <th id=\"T_caee6_level0_row6\" class=\"row_heading level0 row6\" >6</th>\n",
       "      <td id=\"T_caee6_row6_col0\" class=\"data row6 col0\" >http://www.wikidata.org/entity/Q913</td>\n",
       "      <td id=\"T_caee6_row6_col1\" class=\"data row6 col1\" >Socrates</td>\n",
       "    </tr>\n",
       "    <tr>\n",
       "      <th id=\"T_caee6_level0_row7\" class=\"row_heading level0 row7\" >7</th>\n",
       "      <td id=\"T_caee6_row7_col0\" class=\"data row7 col0\" >http://www.wikidata.org/entity/Q7235</td>\n",
       "      <td id=\"T_caee6_row7_col1\" class=\"data row7 col1\" >Sophocles</td>\n",
       "    </tr>\n",
       "    <tr>\n",
       "      <th id=\"T_caee6_level0_row8\" class=\"row_heading level0 row8\" >8</th>\n",
       "      <td id=\"T_caee6_row8_col0\" class=\"data row8 col0\" >http://www.wikidata.org/entity/Q41683</td>\n",
       "      <td id=\"T_caee6_row8_col1\" class=\"data row8 col1\" >Thucydides</td>\n",
       "    </tr>\n",
       "    <tr>\n",
       "      <th id=\"T_caee6_level0_row9\" class=\"row_heading level0 row9\" >9</th>\n",
       "      <td id=\"T_caee6_row9_col0\" class=\"data row9 col0\" >http://www.wikidata.org/entity/Q48305</td>\n",
       "      <td id=\"T_caee6_row9_col1\" class=\"data row9 col1\" >Euripides</td>\n",
       "    </tr>\n",
       "    <tr>\n",
       "      <th id=\"T_caee6_level0_row10\" class=\"row_heading level0 row10\" >10</th>\n",
       "      <td id=\"T_caee6_row10_col0\" class=\"data row10 col0\" >http://www.wikidata.org/entity/Q129772</td>\n",
       "      <td id=\"T_caee6_row10_col1\" class=\"data row10 col1\" >Xenophon</td>\n",
       "    </tr>\n",
       "    <tr>\n",
       "      <th id=\"T_caee6_level0_row11\" class=\"row_heading level0 row11\" >11</th>\n",
       "      <td id=\"T_caee6_row11_col0\" class=\"data row11 col0\" >http://www.wikidata.org/entity/Q162163</td>\n",
       "      <td id=\"T_caee6_row11_col1\" class=\"data row11 col1\" >Ion of Chios</td>\n",
       "    </tr>\n",
       "    <tr>\n",
       "      <th id=\"T_caee6_level0_row12\" class=\"row_heading level0 row12\" >12</th>\n",
       "      <td id=\"T_caee6_row12_col0\" class=\"data row12 col0\" >http://www.wikidata.org/entity/Q221182</td>\n",
       "      <td id=\"T_caee6_row12_col1\" class=\"data row12 col1\" >Isocrates</td>\n",
       "    </tr>\n",
       "    <tr>\n",
       "      <th id=\"T_caee6_level0_row13\" class=\"row_heading level0 row13\" >13</th>\n",
       "      <td id=\"T_caee6_row13_col0\" class=\"data row13 col0\" >http://www.wikidata.org/entity/Q294092</td>\n",
       "      <td id=\"T_caee6_row13_col1\" class=\"data row13 col1\" >Critias</td>\n",
       "    </tr>\n",
       "    <tr>\n",
       "      <th id=\"T_caee6_level0_row14\" class=\"row_heading level0 row14\" >14</th>\n",
       "      <td id=\"T_caee6_row14_col0\" class=\"data row14 col0\" >http://www.wikidata.org/entity/Q380482</td>\n",
       "      <td id=\"T_caee6_row14_col1\" class=\"data row14 col1\" >Agathon</td>\n",
       "    </tr>\n",
       "    <tr>\n",
       "      <th id=\"T_caee6_level0_row15\" class=\"row_heading level0 row15\" >15</th>\n",
       "      <td id=\"T_caee6_row15_col0\" class=\"data row15 col0\" >http://www.wikidata.org/entity/Q2973270</td>\n",
       "      <td id=\"T_caee6_row15_col1\" class=\"data row15 col1\" >Cinesias</td>\n",
       "    </tr>\n",
       "    <tr>\n",
       "      <th id=\"T_caee6_level0_row16\" class=\"row_heading level0 row16\" >16</th>\n",
       "      <td id=\"T_caee6_row16_col0\" class=\"data row16 col0\" >http://www.wikidata.org/entity/Q1627567</td>\n",
       "      <td id=\"T_caee6_row16_col1\" class=\"data row16 col1\" >Pherecrates</td>\n",
       "    </tr>\n",
       "  </tbody>\n",
       "</table>\n"
      ],
      "text/plain": [
       "<pandas.io.formats.style.Styler at 0x1bad9dc55d0>"
      ]
     },
     "execution_count": 7,
     "metadata": {},
     "output_type": "execute_result"
    }
   ],
   "source": [
    "sparql.setQuery(\"\"\"\n",
    "SELECT ?writer ?writerLabel\n",
    "\n",
    "WHERE {\n",
    "    ?writer wdt:P31 wd:Q5 .         # instance of human\n",
    "    ?writer wdt:P106 wd:Q36180 .    # occupation writer\n",
    "    ?writer wdt:P27 wd:Q844930 .    # citizen of Classical Athens\n",
    "    ?writer wdt:P569 ?dtb .         # lived in the 5th century BCE (dtb before -400)\n",
    "        FILTER(YEAR(?dtb) < -400)\n",
    "    ?writer wdt:P570 ?dtd .         # lived in the 5th century BCE (dtd after -499)\n",
    "        FILTER(YEAR(?dtd) > -499)\n",
    "\n",
    "    SERVICE wikibase:label { bd:serviceParam wikibase:language \"[AUTO_LANGUAGE],en\". }\n",
    "}\n",
    "\n",
    "\"\"\")\n",
    "sparql.setReturnFormat(JSON)\n",
    "results = sparql.query().convert()\n",
    "results_df = pd.json_normalize(results[\"results\"][\"bindings\"])\n",
    "results_df = results_df[[\"writer.value\", \"writerLabel.value\"]]\n",
    "# results_df[\"writer.value\"] = results_df[\"writer.value\"].apply(make_clickable)\n",
    "results_df.style.format()"
   ]
  }
 ],
 "metadata": {
  "kernelspec": {
   "display_name": "Python 3",
   "language": "python",
   "name": "python3"
  },
  "language_info": {
   "codemirror_mode": {
    "name": "ipython",
    "version": 3
   },
   "file_extension": ".py",
   "mimetype": "text/x-python",
   "name": "python",
   "nbconvert_exporter": "python",
   "pygments_lexer": "ipython3",
   "version": "3.11.5"
  }
 },
 "nbformat": 4,
 "nbformat_minor": 2
}
