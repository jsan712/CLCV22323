{
 "cells": [
  {
   "cell_type": "markdown",
   "id": "f9a008b1",
   "metadata": {},
   "source": [
    "#### Open and read the file `Hawking-Questioning-the-Universe.txt`."
   ]
  },
  {
   "cell_type": "code",
   "execution_count": 16,
   "id": "80d26b98",
   "metadata": {},
   "outputs": [],
   "source": [
    "with open(\"Hawking-Questioning-the-Universe.txt\", encoding=\"utf8\") as text_file:\n",
    "    whole_text = text_file.read()"
   ]
  },
  {
   "cell_type": "markdown",
   "id": "aec98901",
   "metadata": {},
   "source": [
    "#### Print the first 50 characters."
   ]
  },
  {
   "cell_type": "code",
   "execution_count": 17,
   "id": "3b086da2",
   "metadata": {},
   "outputs": [
    {
     "name": "stdout",
     "output_type": "stream",
     "text": [
      "There is nothing bigger or older than the universe.\n"
     ]
    }
   ],
   "source": [
    "print(whole_text[0:51])"
   ]
  },
  {
   "cell_type": "markdown",
   "id": "970c4531",
   "metadata": {},
   "source": [
    "#### Print from the 52nd to the 163rd character."
   ]
  },
  {
   "cell_type": "code",
   "execution_count": 18,
   "id": "9b7d569c",
   "metadata": {},
   "outputs": [
    {
     "name": "stdout",
     "output_type": "stream",
     "text": [
      "The questions I would like to talk about are: one, where did we come from? How did the universe come into being?\n"
     ]
    }
   ],
   "source": [
    "print(whole_text[52:164])"
   ]
  },
  {
   "cell_type": "markdown",
   "id": "aa65c078",
   "metadata": {},
   "source": [
    "---"
   ]
  },
  {
   "cell_type": "markdown",
   "id": "29b90e57",
   "metadata": {},
   "source": [
    "#### Open the file `Hawking-Questioning-the-Universe.txt` and create a list named `text_as_list` where every word is an element of the list. \n",
    "\n",
    "Hint: there are two ways to do it. Either with `.readlines()` or with `.split()`. I encourage you to google how both work, but I suggest to adopt the latter.\n",
    "\n",
    "Hint: if you want to split the text so every word is an element of a list, what should be the parameter of the `split()` method? Read more [here](https://www.w3schools.com/python/ref_string_split.asp)."
   ]
  },
  {
   "cell_type": "code",
   "execution_count": 30,
   "id": "8f2f6e23",
   "metadata": {},
   "outputs": [],
   "source": [
    "text_as_list = whole_text.split()"
   ]
  },
  {
   "cell_type": "markdown",
   "id": "6e46f16a",
   "metadata": {},
   "source": [
    "#### This code will remove the punctuation from your list and applies the lower() method that returns a string where all characters are lower case. Simple run the cell."
   ]
  },
  {
   "cell_type": "code",
   "execution_count": 31,
   "id": "85b922d6",
   "metadata": {},
   "outputs": [],
   "source": [
    "import string\n",
    "text_as_list = [i.translate(str.maketrans('', '', string.punctuation)).lower() for i in text_as_list]"
   ]
  },
  {
   "cell_type": "markdown",
   "id": "40d83f8d",
   "metadata": {},
   "source": [
    "#### Create a new list `words_begin_with_a`. Write a for loop that checks if a word starts with the letter \"a\". If yes, append the word to the list `words_begin_with_a`. Print how many words have been appended to the list.\n",
    "\n",
    "Hint: you have to define first an empty list.\n",
    "\n",
    "Hint: in order to find if a string starts with one or more letters, you should use the method `.startswith()`. Read more [here](https://www.w3schools.com/python/ref_string_startswith.asp)."
   ]
  },
  {
   "cell_type": "code",
   "execution_count": 41,
   "id": "bd59452d",
   "metadata": {},
   "outputs": [
    {
     "name": "stdout",
     "output_type": "stream",
     "text": [
      "92\n"
     ]
    }
   ],
   "source": [
    "words_begin_with_a = []\n",
    "for word in text_as_list:\n",
    "    if word.startswith(\"a\"):\n",
    "        words_begin_with_a.append(word)\n",
    "\n",
    "print(len(words_begin_with_a))"
   ]
  },
  {
   "cell_type": "markdown",
   "id": "74a5b1ad",
   "metadata": {},
   "source": [
    "Answer: 310"
   ]
  },
  {
   "cell_type": "markdown",
   "id": "343c9baf",
   "metadata": {},
   "source": [
    "#### Write an if statement that checkes if the word \"universe\" appears in the text. Feel free to google how we test if a word is _in_ a Python list."
   ]
  },
  {
   "cell_type": "code",
   "execution_count": 73,
   "id": "de5a062f",
   "metadata": {},
   "outputs": [
    {
     "name": "stdout",
     "output_type": "stream",
     "text": [
      "universe appears\n"
     ]
    }
   ],
   "source": [
    "if \"universe\" in text_as_list:\n",
    "    print(\"universe appears\")"
   ]
  },
  {
   "cell_type": "markdown",
   "id": "02f46c5e",
   "metadata": {},
   "source": [
    "#### Write an if statement that checkes if the word \"alliens\" appears in the text. If not print \"the word does not appear\""
   ]
  },
  {
   "cell_type": "code",
   "execution_count": 43,
   "id": "92eeb1df",
   "metadata": {},
   "outputs": [
    {
     "name": "stdout",
     "output_type": "stream",
     "text": [
      "the word does not appear\n"
     ]
    }
   ],
   "source": [
    "if \"alliens\" not in text_as_list:\n",
    "    print(\"the word does not appear\")"
   ]
  },
  {
   "cell_type": "markdown",
   "id": "bab7c422",
   "metadata": {},
   "source": [
    "#### Write an if statement that checkes if the word \"alliens\" appears in the text. If not, check if the word \"International Space Station\" appears in the text. If neither is in the text, print \"I didn't find the words\"."
   ]
  },
  {
   "cell_type": "code",
   "execution_count": 46,
   "id": "5e5b4701",
   "metadata": {},
   "outputs": [
    {
     "name": "stdout",
     "output_type": "stream",
     "text": [
      "I didn't find the words\n"
     ]
    }
   ],
   "source": [
    "if \"alliens\" in text_as_list:\n",
    "    print(\"alliens appears\")\n",
    "elif \"Internation Space Station\" in text_as_list:\n",
    "    print(\"International Space Station appears\")\n",
    "else:\n",
    "    print(\"I didn't find the words\")"
   ]
  },
  {
   "cell_type": "markdown",
   "id": "06802d51",
   "metadata": {},
   "source": [
    "#### Write a function that prints the numbers from 1 to 20. But for multiples of three, print \"Fizz\" instead of the number, and for the multiples of five, print \"Buzz.\" For numbers that are multiples of both three and five, print \"FizzBuzz.\""
   ]
  },
  {
   "cell_type": "code",
   "execution_count": 72,
   "id": "b2633fe3",
   "metadata": {},
   "outputs": [
    {
     "name": "stdout",
     "output_type": "stream",
     "text": [
      "1\n",
      "2\n",
      "Fizz\n",
      "4\n",
      "Buzz\n",
      "Fizz\n",
      "7\n",
      "8\n",
      "Fizz\n",
      "Buzz\n",
      "11\n",
      "Fizz\n",
      "13\n",
      "14\n",
      "FizzBuzz\n",
      "16\n",
      "17\n",
      "Fizz\n",
      "19\n",
      "Buzz\n"
     ]
    }
   ],
   "source": [
    "for i in range(1, 21):\n",
    "    if i % 3 == 0 and i % 5 == 0:\n",
    "        print(\"FizzBuzz\")\n",
    "        continue\n",
    "    if i % 3 == 0:\n",
    "        print(\"Fizz\")\n",
    "        continue\n",
    "    if i % 5 == 0:\n",
    "        print(\"Buzz\")\n",
    "        continue\n",
    "    print(i)"
   ]
  },
  {
   "cell_type": "markdown",
   "id": "4b5cb2fb",
   "metadata": {},
   "source": [
    "#### Password Strength Checker:\n",
    "Write a function that takes a password as input and checks its strength based on the following criteria:\n",
    "\n",
    "- At least 8 characters long\n",
    "- Contains both uppercase and lowercase letters\n",
    "- Contains at least one digit\n",
    "\n",
    "Hint: use the string methods `.isupper()`, `.islower()` and `.isdigit()`"
   ]
  },
  {
   "cell_type": "code",
   "execution_count": 67,
   "id": "ffd52edd",
   "metadata": {},
   "outputs": [
    {
     "name": "stdout",
     "output_type": "stream",
     "text": [
      "False\n",
      "False\n",
      "True\n",
      "False\n",
      "False\n",
      "False\n",
      "False\n",
      "False\n"
     ]
    }
   ],
   "source": [
    "def password_strength_checker(password):\n",
    "    upper_result = False\n",
    "    lower_result = False\n",
    "    digit_result = False\n",
    "\n",
    "    # Check if there is any uppercase character in password\n",
    "    for character in password:\n",
    "        if character.isupper():\n",
    "            upper_result = True\n",
    "            break\n",
    "\n",
    "    # Check if there is any lowercase character in password\n",
    "    for character in password:\n",
    "        if character.islower():\n",
    "            lower_result = True\n",
    "            break\n",
    "\n",
    "    # Check if there is any digit in password\n",
    "    for character in password:\n",
    "        if character.isdigit():\n",
    "            digit_result = True\n",
    "            break\n",
    "    # If the above conditions are true and if the length of password >= 8, password is strong\n",
    "    if len(password) >= 8 and upper_result == True and lower_result == True and digit_result == True:\n",
    "        return True\n",
    "    return False\n",
    "\n",
    "# Testing of password_strength_checker\n",
    "\n",
    "# Only 8 characters long -- FAIL\n",
    "password1 = \"password\"\n",
    "print(password_strength_checker(password1))\n",
    "\n",
    "# 8 characters long and uppercase and lowercase letters -- FAIL\n",
    "password2 = \"Password\"\n",
    "print(password_strength_checker(password2))\n",
    "\n",
    "# 8 characters long, uppercase and lowercase letteres, and 1 digit -- PASS\n",
    "password3 = \"Password1\"\n",
    "print(password_strength_checker(password3))\n",
    "\n",
    "# At least 1 digit -- FAIL\n",
    "password4 = \"123\"\n",
    "print(password_strength_checker(password4))\n",
    "\n",
    "# 7 characters long -- FAIL\n",
    "password5 = \"testing\"   \n",
    "print(password_strength_checker(password5))\n",
    "\n",
    "# 8 characters long and 1 digit -- FAIL\n",
    "password6 = \"password1\"\n",
    "print(password_strength_checker(password6))\n",
    "\n",
    "# 4 characters long and uppercase and lowercase letters -- FAIL\n",
    "password7 = \"Test\"      \n",
    "print(password_strength_checker(password7))\n",
    "\n",
    "# 5 characters long, uppercase and lowercase letters, and 1 digit -- FAIL\n",
    "password8 = \"Test1\"    \n",
    "print(password_strength_checker(password8))\n"
   ]
  },
  {
   "cell_type": "markdown",
   "id": "6c682e9f",
   "metadata": {},
   "source": [
    "#### Leap Year Checker\n",
    "Write a function that takes a year as input and returns whether it's a leap year or not."
   ]
  },
  {
   "cell_type": "code",
   "execution_count": 66,
   "id": "c5633f06",
   "metadata": {},
   "outputs": [
    {
     "name": "stdout",
     "output_type": "stream",
     "text": [
      "False\n",
      "True\n"
     ]
    }
   ],
   "source": [
    "def leap_year_checker(year):\n",
    "    if year % 4 == 0:\n",
    "        return True\n",
    "    return False\n",
    "\n",
    "# Testing of leap_year_checker\n",
    "year1 = 1999\n",
    "year2 = 2000\n",
    "print(leap_year_checker(year1))\n",
    "print(leap_year_checker(year2))"
   ]
  }
 ],
 "metadata": {
  "kernelspec": {
   "display_name": "Python 3 (ipykernel)",
   "language": "python",
   "name": "python3"
  },
  "language_info": {
   "codemirror_mode": {
    "name": "ipython",
    "version": 3
   },
   "file_extension": ".py",
   "mimetype": "text/x-python",
   "name": "python",
   "nbconvert_exporter": "python",
   "pygments_lexer": "ipython3",
   "version": "3.11.5"
  },
  "vscode": {
   "interpreter": {
    "hash": "60486a05ab6ace32977486fcfbebc3ad7adfe2c9848311c9760f2effeddac2bf"
   }
  }
 },
 "nbformat": 4,
 "nbformat_minor": 5
}
