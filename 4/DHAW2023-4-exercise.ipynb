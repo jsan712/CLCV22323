{
 "cells": [
  {
   "cell_type": "markdown",
   "id": "92898221",
   "metadata": {},
   "source": [
    "## Strings"
   ]
  },
  {
   "cell_type": "markdown",
   "id": "87cbfbce",
   "metadata": {},
   "source": [
    "##### Write a function that returns the first and the last character of a string as one string. Test your function by calling it with the followung string."
   ]
  },
  {
   "cell_type": "code",
   "execution_count": 28,
   "id": "3e21e6cf",
   "metadata": {},
   "outputs": [],
   "source": [
    "sentence = \"Slice notation in Python is used for selecting a range of items from a sequence such as a list, tuple, or string.\""
   ]
  },
  {
   "cell_type": "code",
   "execution_count": 56,
   "id": "9f12cb24",
   "metadata": {},
   "outputs": [],
   "source": [
    "def combine_first_and_last(str):\n",
    "    print(sentence[0] + sentence[-1])"
   ]
  },
  {
   "cell_type": "code",
   "execution_count": 57,
   "id": "8a6b1030-77a7-41e1-97a3-1c8af2b4167f",
   "metadata": {},
   "outputs": [
    {
     "name": "stdout",
     "output_type": "stream",
     "text": [
      "S.\n"
     ]
    }
   ],
   "source": [
    "combine_first_and_last(sentence)"
   ]
  },
  {
   "cell_type": "markdown",
   "id": "58f57eee-30fe-4d47-af60-03144da3c22f",
   "metadata": {},
   "source": [
    "##### Write a function that takes a string as input and returns its a palindrome."
   ]
  },
  {
   "cell_type": "code",
   "execution_count": 48,
   "id": "c7a67cbb",
   "metadata": {},
   "outputs": [],
   "source": [
    "def palindrome(str):\n",
    "    if str[0] == str[-1]:\n",
    "        print(str[::-1])\n",
    "    else:\n",
    "        print(\"This string is not a palindrome\")"
   ]
  },
  {
   "cell_type": "code",
   "execution_count": 51,
   "id": "cedf7ebe-0a96-4838-86ac-4fcaac04343e",
   "metadata": {},
   "outputs": [
    {
     "name": "stdout",
     "output_type": "stream",
     "text": [
      "mom\n",
      "nur sesrun\n"
     ]
    }
   ],
   "source": [
    "str = \"mom\"\n",
    "palindrome(str)\n",
    "s = \"nurses run\"\n",
    "palindrome(s)"
   ]
  },
  {
   "cell_type": "markdown",
   "id": "508ef76f",
   "metadata": {},
   "source": [
    "## Lists"
   ]
  },
  {
   "cell_type": "code",
   "execution_count": 2,
   "id": "64afa51c",
   "metadata": {},
   "outputs": [],
   "source": [
    "mylist = ['John', 'Maria', 'Ted', 'Nick', 'Albert', 'John', 'Catherine']"
   ]
  },
  {
   "cell_type": "markdown",
   "id": "6f8d562f",
   "metadata": {},
   "source": [
    "#### Add the name Jim to the list and print the list"
   ]
  },
  {
   "cell_type": "code",
   "execution_count": 3,
   "id": "73e36caa",
   "metadata": {},
   "outputs": [],
   "source": [
    "mylist.append('Jim')"
   ]
  },
  {
   "cell_type": "code",
   "execution_count": 4,
   "id": "ea4fe7eb-d8ab-4c2b-9409-423188065286",
   "metadata": {},
   "outputs": [
    {
     "name": "stdout",
     "output_type": "stream",
     "text": [
      "['John', 'Maria', 'Ted', 'Nick', 'Albert', 'John', 'Catherine', 'Jim']\n"
     ]
    }
   ],
   "source": [
    "print(mylist)"
   ]
  },
  {
   "cell_type": "markdown",
   "id": "8d1be93c",
   "metadata": {},
   "source": [
    "#### Insert the name Bod to the 2nd place in the list and print the list"
   ]
  },
  {
   "cell_type": "code",
   "execution_count": 6,
   "id": "68fb9177",
   "metadata": {},
   "outputs": [],
   "source": [
    "mylist.insert(1, 'Bod')"
   ]
  },
  {
   "cell_type": "code",
   "execution_count": 7,
   "id": "0cba9849-58d5-47d1-93d1-02ebe3a1177c",
   "metadata": {},
   "outputs": [
    {
     "name": "stdout",
     "output_type": "stream",
     "text": [
      "['John', 'Bod', 'Maria', 'Ted', 'Nick', 'Albert', 'John', 'Catherine', 'Jim']\n"
     ]
    }
   ],
   "source": [
    "print(mylist)"
   ]
  },
  {
   "cell_type": "markdown",
   "id": "312aa5f2",
   "metadata": {},
   "source": [
    "#### Remove Ted from the list and print the list"
   ]
  },
  {
   "cell_type": "code",
   "execution_count": 8,
   "id": "06c2fa44",
   "metadata": {},
   "outputs": [],
   "source": [
    "del mylist[3]"
   ]
  },
  {
   "cell_type": "code",
   "execution_count": 9,
   "id": "28ef8386-8601-435f-957d-4f6688d19205",
   "metadata": {},
   "outputs": [
    {
     "name": "stdout",
     "output_type": "stream",
     "text": [
      "['John', 'Bod', 'Maria', 'Nick', 'Albert', 'John', 'Catherine', 'Jim']\n"
     ]
    }
   ],
   "source": [
    "print(mylist)"
   ]
  },
  {
   "cell_type": "markdown",
   "id": "ac7e2efb",
   "metadata": {},
   "source": [
    "##### Write a function that reverses the order of the list"
   ]
  },
  {
   "cell_type": "code",
   "execution_count": 54,
   "id": "51e7c40f",
   "metadata": {},
   "outputs": [],
   "source": [
    "def reverse_list(mylist):\n",
    "    print(mylist[::-1])"
   ]
  },
  {
   "cell_type": "code",
   "execution_count": 55,
   "id": "9901f0d4-cff0-4740-a508-11017ba3d1e8",
   "metadata": {},
   "outputs": [
    {
     "name": "stdout",
     "output_type": "stream",
     "text": [
      "['Jim', 'Catherine', 'John', 'Albert', 'Nick', 'Maria', 'Bod', 'John']\n"
     ]
    }
   ],
   "source": [
    "reverse_list(mylist)"
   ]
  },
  {
   "cell_type": "markdown",
   "id": "a9d7b7c8",
   "metadata": {},
   "source": [
    "## Functions"
   ]
  },
  {
   "cell_type": "markdown",
   "id": "aec927ed",
   "metadata": {},
   "source": [
    "##### Write a Python function called `calculate_circle_area` that takes the radius of a circle as an argument and returns the area of the circle. The formula for the area of a circle is π × radius<sup>2</sup>."
   ]
  },
  {
   "cell_type": "code",
   "execution_count": 63,
   "id": "4c42cb24",
   "metadata": {},
   "outputs": [],
   "source": [
    "import math\n",
    "def calculate_circle_area(radius):\n",
    "    return math.pi * radius**2"
   ]
  },
  {
   "cell_type": "code",
   "execution_count": 64,
   "id": "3e279b65",
   "metadata": {},
   "outputs": [
    {
     "name": "stdout",
     "output_type": "stream",
     "text": [
      "The area of a circle with radius 5 is 78.54\n"
     ]
    }
   ],
   "source": [
    "# Test the function\n",
    "radius = 5\n",
    "area = calculate_circle_area(radius)\n",
    "print(f\"The area of a circle with radius {radius} is {area:.2f}\")"
   ]
  },
  {
   "cell_type": "markdown",
   "id": "043319c4",
   "metadata": {},
   "source": [
    "##### Illinois' general state retailers' occupation and use tax rates are:\n",
    "- 6.25 percent on general merchandise, including items required to be titled or registered by an agency of Illinois state government; and\n",
    "- 1 percent on qualifying foods, drugs, and medical appliances. \n",
    "\n",
    "Write two Python functions, named `tax_merchandise` and `tax_food` that calculate the above taxes respectively.  "
   ]
  },
  {
   "cell_type": "code",
   "execution_count": 70,
   "id": "73abf46d",
   "metadata": {},
   "outputs": [],
   "source": [
    "def tax_merchandise(purchase):\n",
    "    tax_amount = 0.0625 * purchase\n",
    "    purchase = purchase + tax_amount\n",
    "    print(purchase)\n",
    "\n",
    "def tax_food(purchase):\n",
    "    tax_amount = 0.01 * purchase\n",
    "    purchase = purchase + tax_amount\n",
    "    print(purchase)"
   ]
  },
  {
   "cell_type": "code",
   "execution_count": 71,
   "id": "f18885b6-521d-49f6-9d59-b33a90a8fe44",
   "metadata": {},
   "outputs": [
    {
     "name": "stdout",
     "output_type": "stream",
     "text": [
      "106.25\n",
      "101.0\n"
     ]
    }
   ],
   "source": [
    "gen_merch = 100\n",
    "food = 150\n",
    "tax_merchandise(gen_merch)\n",
    "tax_food(gen_merch)"
   ]
  },
  {
   "cell_type": "markdown",
   "id": "2805fa8d",
   "metadata": {},
   "source": [
    "---"
   ]
  }
 ],
 "metadata": {
  "kernelspec": {
   "display_name": "Python 3 (ipykernel)",
   "language": "python",
   "name": "python3"
  },
  "language_info": {
   "codemirror_mode": {
    "name": "ipython",
    "version": 3
   },
   "file_extension": ".py",
   "mimetype": "text/x-python",
   "name": "python",
   "nbconvert_exporter": "python",
   "pygments_lexer": "ipython3",
   "version": "3.11.5"
  }
 },
 "nbformat": 4,
 "nbformat_minor": 5
}
